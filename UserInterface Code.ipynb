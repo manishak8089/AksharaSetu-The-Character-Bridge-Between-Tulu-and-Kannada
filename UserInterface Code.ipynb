{
 "cells": [
  {
   "cell_type": "code",
   "execution_count": 1,
   "id": "820d6738-32ce-491a-a4f9-e85062ee3c9c",
   "metadata": {},
   "outputs": [],
   "source": [
    "import tkinter as tk\n",
    "from tkinter import filedialog\n",
    "from PIL import Image, ImageTk\n",
    "import numpy as np\n",
    "from tensorflow.keras.models import load_model\n"
   ]
  },
  {
   "cell_type": "code",
   "execution_count": 3,
   "id": "b6c469e6-d3ec-472c-9694-d8a4f38d487f",
   "metadata": {},
   "outputs": [
    {
     "name": "stdout",
     "output_type": "stream",
     "text": [
      "Found 13181 images belonging to 49 classes.\n",
      "Found 3283 images belonging to 49 classes.\n"
     ]
    }
   ],
   "source": [
    "import tensorflow as tf\n",
    "from tensorflow.keras.preprocessing.image import ImageDataGenerator\n",
    "\n",
    "# Define image dimensions and paths\n",
    "img_height, img_width = 150, 150\n",
    "batch_size = 32\n",
    "data_dir = r'C:\\Users\\manis\\OneDrive\\Desktop\\jupyter\\resize2'\n",
    "\n",
    "# Data augmentation and normalization\n",
    "train_datagen = ImageDataGenerator(\n",
    "    rescale=1./255,\n",
    "    validation_split=0.2,  # 20% of data for validation\n",
    "    shear_range=0.2,\n",
    "    zoom_range=0.2,\n",
    "    horizontal_flip=True\n",
    ")\n",
    "\n",
    "train_generator = train_datagen.flow_from_directory(\n",
    "    data_dir,\n",
    "    target_size=(img_height, img_width),\n",
    "    batch_size=batch_size,\n",
    "    class_mode='categorical',\n",
    "    subset='training'\n",
    ")\n",
    "\n",
    "validation_generator = train_datagen.flow_from_directory(\n",
    "    data_dir,\n",
    "    target_size=(img_height, img_width),\n",
    "    batch_size=batch_size,\n",
    "    class_mode='categorical',\n",
    "    subset='validation'\n",
    ")"
   ]
  },
  {
   "cell_type": "code",
   "execution_count": null,
   "id": "1a20e906-457f-47ae-803f-7e0b650055e3",
   "metadata": {},
   "outputs": [
    {
     "name": "stderr",
     "output_type": "stream",
     "text": [
      "WARNING:absl:Compiled the loaded model, but the compiled metrics have yet to be built. `model.compile_metrics` will be empty until you train or evaluate the model.\n"
     ]
    },
    {
     "name": "stdout",
     "output_type": "stream",
     "text": [
      "\u001b[1m1/1\u001b[0m \u001b[32m━━━━━━━━━━━━━━━━━━━━\u001b[0m\u001b[37m\u001b[0m \u001b[1m0s\u001b[0m 250ms/step\n"
     ]
    }
   ],
   "source": [
    "import tkinter as tk\n",
    "from tkinter import filedialog, messagebox\n",
    "from PIL import Image, ImageTk\n",
    "from tensorflow.keras.models import load_model\n",
    "from tensorflow.keras.preprocessing import image\n",
    "import numpy as np\n",
    "\n",
    "# Load the trained model\n",
    "model = load_model('tulu_character_recognition_model2.h5')\n",
    "model.compile(optimizer='adam', loss='categorical_crossentropy', metrics=['accuracy'])\n",
    "\n",
    "# Define image dimensions for preprocessing\n",
    "img_height, img_width = 150, 150  # Example values; adjust according to your model requirements\n",
    "\n",
    "# Define a dictionary mapping class indices to Kannada folder names\n",
    "# Replace with your actual mapping based on your project\n",
    "class_indices = train_generator.class_indices  # Assuming train_generator is available\n",
    "index_to_class = {v: k for k, v in class_indices.items()}\n",
    "\n",
    "# Function to load and preprocess an image\n",
    "def load_and_preprocess_image(img_path, img_height, img_width):\n",
    "    img = image.load_img(img_path, target_size=(img_height, img_width))\n",
    "    img_array = image.img_to_array(img)\n",
    "    img_array = np.expand_dims(img_array, axis=0)\n",
    "    img_array /= 255.0\n",
    "    return img_array\n",
    "\n",
    "# Function to handle image selection and prediction\n",
    "def predict_image():\n",
    "    file_path = filedialog.askopenfilename()\n",
    "    if file_path:\n",
    "        try:\n",
    "            img_array = load_and_preprocess_image(file_path, img_height, img_width)\n",
    "            predictions = model.predict(img_array)\n",
    "            predicted_class = np.argmax(predictions)\n",
    "            predicted_folder = index_to_class.get(predicted_class, \"Unknown\")\n",
    "            result_label.config(text=f\"The Kannada character: {predicted_folder}\")\n",
    "            \n",
    "            # Display the selected image\n",
    "            img = Image.open(file_path)\n",
    "            img = img.resize((250, 250))  # Resize for display\n",
    "            img = ImageTk.PhotoImage(img)\n",
    "            image_label.config(image=img)\n",
    "            image_label.image = img  # Keep a reference to avoid garbage collection\n",
    "        except Exception as e:\n",
    "            messagebox.showerror(\"Error\", f\"Error predicting image: {e}\")\n",
    "\n",
    "# Initialize the GUI\n",
    "root = tk.Tk()\n",
    "root.title(\"Tulu Handwritten Character Translator\")\n",
    "\n",
    "# Styling\n",
    "root.geometry(\"500x600\")  # Set initial window size\n",
    "root.configure(bg=\"#f0f0f0\")  # Light gray background\n",
    "\n",
    "# GUI Elements\n",
    "\n",
    "title_label = tk.Label(root, text=\"Characters in Translation: Decrypting Tulu to Kannada\", \n",
    "                       font=(\"Helvetica\", 18, \"bold\"), bg=\"#008080\", fg=\"white\", pady=10)  # Teal background\n",
    "title_label.pack(pady=20, fill=tk.X)\n",
    "\n",
    "image_label = tk.Label(root, padx=10, pady=10, bg=\"#f0f0f0\")  # Light gray background\n",
    "image_label.pack(pady=20)\n",
    "\n",
    "btn_select_image = tk.Button(root, text=\"Select Image\", command=predict_image, padx=15, pady=5, bd=3, \n",
    "                             relief=tk.RAISED, bg=\"#ff6347\", fg=\"white\", font=(\"Arial\", 14, \"bold\"))  # Coral background\n",
    "btn_select_image.pack(pady=20)\n",
    "\n",
    "result_label = tk.Label(root, text=\"\", font=(\"Bernard MT Condensed\", 18, \"bold\"), bg=\"#f0f0f0\", fg=\"#008080\")  # Teal text\n",
    "result_label.pack(pady=10)\n",
    "\n",
    "# Run the main loop\n",
    "root.mainloop()"
   ]
  },
  {
   "cell_type": "code",
   "execution_count": null,
   "id": "f13d1b16-5505-45d9-8a4a-1969e1297c4b",
   "metadata": {},
   "outputs": [],
   "source": []
  }
 ],
 "metadata": {
  "kernelspec": {
   "display_name": "Python 3 (ipykernel)",
   "language": "python",
   "name": "python3"
  },
  "language_info": {
   "codemirror_mode": {
    "name": "ipython",
    "version": 3
   },
   "file_extension": ".py",
   "mimetype": "text/x-python",
   "name": "python",
   "nbconvert_exporter": "python",
   "pygments_lexer": "ipython3",
   "version": "3.11.9"
  }
 },
 "nbformat": 4,
 "nbformat_minor": 5
}
